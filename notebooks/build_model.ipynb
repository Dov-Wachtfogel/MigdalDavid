{
 "cells": [
  {
   "cell_type": "code",
   "execution_count": 1,
   "metadata": {
    "collapsed": true,
    "ExecuteTime": {
     "end_time": "2023-05-02T08:08:41.855509988Z",
     "start_time": "2023-05-02T08:08:38.372675642Z"
    }
   },
   "outputs": [],
   "source": [
    "import pandas as pd\n",
    "\n",
    "\n",
    "from sklearn.ensemble import RandomForestRegressor\n",
    "from sklearn.metrics import mean_absolute_error\n",
    "\n",
    "forest_model = RandomForestRegressor(random_state=1)"
   ]
  },
  {
   "cell_type": "code",
   "execution_count": 5,
   "metadata": {
    "ExecuteTime": {
     "end_time": "2023-05-02T08:11:30.603618661Z",
     "start_time": "2023-05-02T08:11:27.740129456Z"
    }
   },
   "outputs": [
    {
     "data": {
      "text/plain": "         year  month  day  hour  day_of_week  holiday  day_of_year  PM10  PM25\n68337    2005      2   15  15.5            3        0           46  94.6  28.9\n942665   2018      2   17   4.0            7        0           48  16.2  11.0\n1179178  2005      8   28  10.0            1        0          240  33.3  17.6\n178786   2013      1    8  14.5            3        0            8  96.4  18.1\n603688   2018     10   11  20.5            5        0          284  22.0  16.1\n...       ...    ...  ...   ...          ...      ...          ...   ...   ...\n567912   2018      2   23   5.5            6        0           54  42.4  13.1\n2565362  2015      5   29  19.0            6        0          149  34.4  14.4\n1401522  2018     11   14   7.5            4        0          318  19.5  13.0\n111927   2007     10    6  19.5            7        0          279   9.4   9.2\n221583   2018      3   19   5.0            2        0           78  54.9  20.5\n\n[10000 rows x 9 columns]",
      "text/html": "<div>\n<style scoped>\n    .dataframe tbody tr th:only-of-type {\n        vertical-align: middle;\n    }\n\n    .dataframe tbody tr th {\n        vertical-align: top;\n    }\n\n    .dataframe thead th {\n        text-align: right;\n    }\n</style>\n<table border=\"1\" class=\"dataframe\">\n  <thead>\n    <tr style=\"text-align: right;\">\n      <th></th>\n      <th>year</th>\n      <th>month</th>\n      <th>day</th>\n      <th>hour</th>\n      <th>day_of_week</th>\n      <th>holiday</th>\n      <th>day_of_year</th>\n      <th>PM10</th>\n      <th>PM25</th>\n    </tr>\n  </thead>\n  <tbody>\n    <tr>\n      <th>68337</th>\n      <td>2005</td>\n      <td>2</td>\n      <td>15</td>\n      <td>15.5</td>\n      <td>3</td>\n      <td>0</td>\n      <td>46</td>\n      <td>94.6</td>\n      <td>28.9</td>\n    </tr>\n    <tr>\n      <th>942665</th>\n      <td>2018</td>\n      <td>2</td>\n      <td>17</td>\n      <td>4.0</td>\n      <td>7</td>\n      <td>0</td>\n      <td>48</td>\n      <td>16.2</td>\n      <td>11.0</td>\n    </tr>\n    <tr>\n      <th>1179178</th>\n      <td>2005</td>\n      <td>8</td>\n      <td>28</td>\n      <td>10.0</td>\n      <td>1</td>\n      <td>0</td>\n      <td>240</td>\n      <td>33.3</td>\n      <td>17.6</td>\n    </tr>\n    <tr>\n      <th>178786</th>\n      <td>2013</td>\n      <td>1</td>\n      <td>8</td>\n      <td>14.5</td>\n      <td>3</td>\n      <td>0</td>\n      <td>8</td>\n      <td>96.4</td>\n      <td>18.1</td>\n    </tr>\n    <tr>\n      <th>603688</th>\n      <td>2018</td>\n      <td>10</td>\n      <td>11</td>\n      <td>20.5</td>\n      <td>5</td>\n      <td>0</td>\n      <td>284</td>\n      <td>22.0</td>\n      <td>16.1</td>\n    </tr>\n    <tr>\n      <th>...</th>\n      <td>...</td>\n      <td>...</td>\n      <td>...</td>\n      <td>...</td>\n      <td>...</td>\n      <td>...</td>\n      <td>...</td>\n      <td>...</td>\n      <td>...</td>\n    </tr>\n    <tr>\n      <th>567912</th>\n      <td>2018</td>\n      <td>2</td>\n      <td>23</td>\n      <td>5.5</td>\n      <td>6</td>\n      <td>0</td>\n      <td>54</td>\n      <td>42.4</td>\n      <td>13.1</td>\n    </tr>\n    <tr>\n      <th>2565362</th>\n      <td>2015</td>\n      <td>5</td>\n      <td>29</td>\n      <td>19.0</td>\n      <td>6</td>\n      <td>0</td>\n      <td>149</td>\n      <td>34.4</td>\n      <td>14.4</td>\n    </tr>\n    <tr>\n      <th>1401522</th>\n      <td>2018</td>\n      <td>11</td>\n      <td>14</td>\n      <td>7.5</td>\n      <td>4</td>\n      <td>0</td>\n      <td>318</td>\n      <td>19.5</td>\n      <td>13.0</td>\n    </tr>\n    <tr>\n      <th>111927</th>\n      <td>2007</td>\n      <td>10</td>\n      <td>6</td>\n      <td>19.5</td>\n      <td>7</td>\n      <td>0</td>\n      <td>279</td>\n      <td>9.4</td>\n      <td>9.2</td>\n    </tr>\n    <tr>\n      <th>221583</th>\n      <td>2018</td>\n      <td>3</td>\n      <td>19</td>\n      <td>5.0</td>\n      <td>2</td>\n      <td>0</td>\n      <td>78</td>\n      <td>54.9</td>\n      <td>20.5</td>\n    </tr>\n  </tbody>\n</table>\n<p>10000 rows × 9 columns</p>\n</div>"
     },
     "execution_count": 5,
     "metadata": {},
     "output_type": "execute_result"
    }
   ],
   "source": [
    "df = pd.read_csv('/home/dov-wachtfogel/PycharmProjects/MigdalDavid/all_PM10_PM25.csv').sample(n=10000)\n",
    "df"
   ]
  },
  {
   "cell_type": "code",
   "execution_count": 6,
   "metadata": {
    "ExecuteTime": {
     "end_time": "2023-05-02T08:13:16.922830799Z",
     "start_time": "2023-05-02T08:13:16.874367048Z"
    }
   },
   "outputs": [],
   "source": [
    "X = df.PM10\n",
    "y = df.PM25\n",
    "\n",
    "from sklearn.model_selection import train_test_split\n",
    "\n",
    "train_X, val_X, train_y, val_y = train_test_split(X, y,random_state = 0)\n"
   ]
  },
  {
   "cell_type": "code",
   "execution_count": 11,
   "outputs": [
    {
     "name": "stderr",
     "output_type": "stream",
     "text": [
      "/tmp/ipykernel_7094/3311511415.py:1: DataConversionWarning: A column-vector y was passed when a 1d array was expected. Please change the shape of y to (n_samples,), for example using ravel().\n",
      "  forest_model.fit(train_X.to_numpy().reshape(-1,1), train_y.to_numpy().reshape(-1,1))\n"
     ]
    },
    {
     "name": "stdout",
     "output_type": "stream",
     "text": [
      "5.743301614821689\n"
     ]
    }
   ],
   "source": [
    "forest_model.fit(train_X.to_numpy().reshape(-1,1), train_y.to_numpy().reshape(-1,1))\n",
    "melb_preds = forest_model.predict(val_X.to_numpy().reshape(-1,1))\n",
    "print(mean_absolute_error(val_y.to_numpy().reshape(-1,1), melb_preds))"
   ],
   "metadata": {
    "collapsed": false,
    "ExecuteTime": {
     "end_time": "2023-05-02T08:17:17.279472181Z",
     "start_time": "2023-05-02T08:17:16.139954195Z"
    }
   }
  },
  {
   "cell_type": "code",
   "execution_count": 19,
   "outputs": [
    {
     "name": "stderr",
     "output_type": "stream",
     "text": [
      "/tmp/ipykernel_7094/719477740.py:9: DataConversionWarning: A column-vector y was passed when a 1d array was expected. Please change the shape of y to (n_samples,), for example using ravel().\n",
      "  mini_forest_model.fit(mini_train_X.to_numpy().reshape(-1,1), mini_train_y.to_numpy().reshape(-1,1))\n"
     ]
    },
    {
     "name": "stdout",
     "output_type": "stream",
     "text": [
      "6.63395387627157\n"
     ]
    }
   ],
   "source": [
    "mini_df = df.sample(n=1000)\n",
    "mini_forest_model = RandomForestRegressor(random_state=1)\n",
    "mini_X = mini_df.PM10\n",
    "mini_y = mini_df.PM25\n",
    "\n",
    "from sklearn.model_selection import train_test_split\n",
    "\n",
    "mini_train_X, mini_val_X, mini_train_y, mini_val_y = train_test_split(mini_X, mini_y,random_state = 0)\n",
    "mini_forest_model.fit(mini_train_X.to_numpy().reshape(-1,1), mini_train_y.to_numpy().reshape(-1,1))\n",
    "mini_melb_preds = mini_forest_model.predict(val_X.to_numpy().reshape(-1,1))\n",
    "print(mean_absolute_error(val_y.to_numpy().reshape(-1,1), mini_melb_preds))"
   ],
   "metadata": {
    "collapsed": false,
    "ExecuteTime": {
     "end_time": "2023-05-02T08:33:26.565646583Z",
     "start_time": "2023-05-02T08:33:26.202245114Z"
    }
   }
  },
  {
   "cell_type": "code",
   "execution_count": 22,
   "outputs": [],
   "source": [
    "import pickle\n",
    "\n",
    "filename = \"/home/dov-wachtfogel/PycharmProjects/MigdalDavid/PM10_to_PM25_model.pickle\"\n",
    "\n",
    "# save model\n",
    "pickle.dump(forest_model, open(filename, \"wb\"))\n",
    "\n",
    "# load model\n",
    "#loaded_model = pickle.load(open(filename, \"rb\"))"
   ],
   "metadata": {
    "collapsed": false,
    "ExecuteTime": {
     "end_time": "2023-05-02T08:48:04.539953318Z",
     "start_time": "2023-05-02T08:48:04.484075596Z"
    }
   }
  },
  {
   "cell_type": "code",
   "execution_count": null,
   "outputs": [],
   "source": [],
   "metadata": {
    "collapsed": false
   }
  }
 ],
 "metadata": {
  "kernelspec": {
   "display_name": "Python 3 (ipykernel)",
   "language": "python",
   "name": "python3"
  },
  "language_info": {
   "codemirror_mode": {
    "name": "ipython",
    "version": 2
   },
   "file_extension": ".py",
   "mimetype": "text/x-python",
   "name": "python",
   "nbconvert_exporter": "python",
   "pygments_lexer": "ipython2",
   "version": "2.7.6"
  }
 },
 "nbformat": 4,
 "nbformat_minor": 1
}
