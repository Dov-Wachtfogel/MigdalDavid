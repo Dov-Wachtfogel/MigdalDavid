{
 "cells": [
  {
   "cell_type": "code",
   "execution_count": 1,
   "metadata": {
    "collapsed": true
   },
   "outputs": [],
   "source": [
    "import pandas as pd\n",
    "\n",
    "\n",
    "from sklearn.ensemble import RandomForestRegressor\n",
    "from sklearn.metrics import mean_absolute_error\n",
    "\n",
    "forest_model = RandomForestRegressor(random_state=1)"
   ]
  },
  {
   "cell_type": "code",
   "execution_count": 2,
   "outputs": [],
   "source": [
    "def exract(data_path, metadata_path):\n",
    "    df = pd.read_csv(data_path, header=[0,1])\n",
    "    meta = pd.read_csv(metadata_path, sep = ' ', header=None)\n",
    "    dates = ['year','month','day','hour','day_of_week','holiday','day_of_year']\n",
    "    df.columns = dates+list(meta[2])\n",
    "    df = df.set_index(dates)\n",
    "    return df"
   ],
   "metadata": {
    "collapsed": false
   }
  },
  {
   "cell_type": "code",
   "execution_count": 3,
   "outputs": [],
   "source": [
    "df10= exract('data/Data_PM10.csv', 'data/MetaData_PM10.txt')\n",
    "df25 = exract('data/Data_PM25.csv', 'data/MetaData_PM25.txt')"
   ],
   "metadata": {
    "collapsed": false
   }
  },
  {
   "cell_type": "code",
   "execution_count": 16,
   "outputs": [
    {
     "ename": "MemoryError",
     "evalue": "Unable to allocate 127. GiB for an array with shape (17110292817,) and data type int64",
     "output_type": "error",
     "traceback": [
      "\u001B[0;31m---------------------------------------------------------------------------\u001B[0m",
      "\u001B[0;31mMemoryError\u001B[0m                               Traceback (most recent call last)",
      "Cell \u001B[0;32mIn[16], line 7\u001B[0m\n\u001B[1;32m      5\u001B[0m df10_per_station \u001B[38;5;241m=\u001B[39m df10[[i]]\n\u001B[1;32m      6\u001B[0m df25_per_station \u001B[38;5;241m=\u001B[39m df25[[i]]\n\u001B[0;32m----> 7\u001B[0m df_per_station \u001B[38;5;241m=\u001B[39m \u001B[43mdf10_per_station\u001B[49m\u001B[38;5;241;43m.\u001B[39;49m\u001B[43mmerge\u001B[49m\u001B[43m(\u001B[49m\u001B[43mdf25_per_station\u001B[49m\u001B[43m,\u001B[49m\u001B[43m \u001B[49m\u001B[43mhow\u001B[49m\u001B[38;5;241;43m=\u001B[39;49m\u001B[38;5;124;43m'\u001B[39;49m\u001B[38;5;124;43minner\u001B[39;49m\u001B[38;5;124;43m'\u001B[39;49m\u001B[43m)\u001B[49m\n\u001B[1;32m      8\u001B[0m df_per_station[\u001B[38;5;124m'\u001B[39m\u001B[38;5;124mstation\u001B[39m\u001B[38;5;124m'\u001B[39m] \u001B[38;5;241m=\u001B[39m [i]\u001B[38;5;241m*\u001B[39m\u001B[38;5;28mlen\u001B[39m(df_per_station\u001B[38;5;241m.\u001B[39myear\u001B[38;5;241m.\u001B[39mindex)\n\u001B[1;32m      9\u001B[0m df_per_station\u001B[38;5;241m.\u001B[39mset_index(df_per_station\u001B[38;5;241m.\u001B[39mindex\u001B[38;5;241m+\u001B[39m[\u001B[38;5;124m'\u001B[39m\u001B[38;5;124mstation\u001B[39m\u001B[38;5;124m'\u001B[39m])\n",
      "File \u001B[0;32m~/miniconda3/envs/MigdalDavid/lib/python3.10/site-packages/pandas/core/frame.py:10093\u001B[0m, in \u001B[0;36mDataFrame.merge\u001B[0;34m(self, right, how, on, left_on, right_on, left_index, right_index, sort, suffixes, copy, indicator, validate)\u001B[0m\n\u001B[1;32m  10074\u001B[0m \u001B[38;5;129m@Substitution\u001B[39m(\u001B[38;5;124m\"\u001B[39m\u001B[38;5;124m\"\u001B[39m)\n\u001B[1;32m  10075\u001B[0m \u001B[38;5;129m@Appender\u001B[39m(_merge_doc, indents\u001B[38;5;241m=\u001B[39m\u001B[38;5;241m2\u001B[39m)\n\u001B[1;32m  10076\u001B[0m \u001B[38;5;28;01mdef\u001B[39;00m \u001B[38;5;21mmerge\u001B[39m(\n\u001B[0;32m   (...)\u001B[0m\n\u001B[1;32m  10089\u001B[0m     validate: \u001B[38;5;28mstr\u001B[39m \u001B[38;5;241m|\u001B[39m \u001B[38;5;28;01mNone\u001B[39;00m \u001B[38;5;241m=\u001B[39m \u001B[38;5;28;01mNone\u001B[39;00m,\n\u001B[1;32m  10090\u001B[0m ) \u001B[38;5;241m-\u001B[39m\u001B[38;5;241m>\u001B[39m DataFrame:\n\u001B[1;32m  10091\u001B[0m     \u001B[38;5;28;01mfrom\u001B[39;00m \u001B[38;5;21;01mpandas\u001B[39;00m\u001B[38;5;21;01m.\u001B[39;00m\u001B[38;5;21;01mcore\u001B[39;00m\u001B[38;5;21;01m.\u001B[39;00m\u001B[38;5;21;01mreshape\u001B[39;00m\u001B[38;5;21;01m.\u001B[39;00m\u001B[38;5;21;01mmerge\u001B[39;00m \u001B[38;5;28;01mimport\u001B[39;00m merge\n\u001B[0;32m> 10093\u001B[0m     \u001B[38;5;28;01mreturn\u001B[39;00m \u001B[43mmerge\u001B[49m\u001B[43m(\u001B[49m\n\u001B[1;32m  10094\u001B[0m \u001B[43m        \u001B[49m\u001B[38;5;28;43mself\u001B[39;49m\u001B[43m,\u001B[49m\n\u001B[1;32m  10095\u001B[0m \u001B[43m        \u001B[49m\u001B[43mright\u001B[49m\u001B[43m,\u001B[49m\n\u001B[1;32m  10096\u001B[0m \u001B[43m        \u001B[49m\u001B[43mhow\u001B[49m\u001B[38;5;241;43m=\u001B[39;49m\u001B[43mhow\u001B[49m\u001B[43m,\u001B[49m\n\u001B[1;32m  10097\u001B[0m \u001B[43m        \u001B[49m\u001B[43mon\u001B[49m\u001B[38;5;241;43m=\u001B[39;49m\u001B[43mon\u001B[49m\u001B[43m,\u001B[49m\n\u001B[1;32m  10098\u001B[0m \u001B[43m        \u001B[49m\u001B[43mleft_on\u001B[49m\u001B[38;5;241;43m=\u001B[39;49m\u001B[43mleft_on\u001B[49m\u001B[43m,\u001B[49m\n\u001B[1;32m  10099\u001B[0m \u001B[43m        \u001B[49m\u001B[43mright_on\u001B[49m\u001B[38;5;241;43m=\u001B[39;49m\u001B[43mright_on\u001B[49m\u001B[43m,\u001B[49m\n\u001B[1;32m  10100\u001B[0m \u001B[43m        \u001B[49m\u001B[43mleft_index\u001B[49m\u001B[38;5;241;43m=\u001B[39;49m\u001B[43mleft_index\u001B[49m\u001B[43m,\u001B[49m\n\u001B[1;32m  10101\u001B[0m \u001B[43m        \u001B[49m\u001B[43mright_index\u001B[49m\u001B[38;5;241;43m=\u001B[39;49m\u001B[43mright_index\u001B[49m\u001B[43m,\u001B[49m\n\u001B[1;32m  10102\u001B[0m \u001B[43m        \u001B[49m\u001B[43msort\u001B[49m\u001B[38;5;241;43m=\u001B[39;49m\u001B[43msort\u001B[49m\u001B[43m,\u001B[49m\n\u001B[1;32m  10103\u001B[0m \u001B[43m        \u001B[49m\u001B[43msuffixes\u001B[49m\u001B[38;5;241;43m=\u001B[39;49m\u001B[43msuffixes\u001B[49m\u001B[43m,\u001B[49m\n\u001B[1;32m  10104\u001B[0m \u001B[43m        \u001B[49m\u001B[43mcopy\u001B[49m\u001B[38;5;241;43m=\u001B[39;49m\u001B[43mcopy\u001B[49m\u001B[43m,\u001B[49m\n\u001B[1;32m  10105\u001B[0m \u001B[43m        \u001B[49m\u001B[43mindicator\u001B[49m\u001B[38;5;241;43m=\u001B[39;49m\u001B[43mindicator\u001B[49m\u001B[43m,\u001B[49m\n\u001B[1;32m  10106\u001B[0m \u001B[43m        \u001B[49m\u001B[43mvalidate\u001B[49m\u001B[38;5;241;43m=\u001B[39;49m\u001B[43mvalidate\u001B[49m\u001B[43m,\u001B[49m\n\u001B[1;32m  10107\u001B[0m \u001B[43m    \u001B[49m\u001B[43m)\u001B[49m\n",
      "File \u001B[0;32m~/miniconda3/envs/MigdalDavid/lib/python3.10/site-packages/pandas/core/reshape/merge.py:124\u001B[0m, in \u001B[0;36mmerge\u001B[0;34m(left, right, how, on, left_on, right_on, left_index, right_index, sort, suffixes, copy, indicator, validate)\u001B[0m\n\u001B[1;32m     93\u001B[0m \u001B[38;5;129m@Substitution\u001B[39m(\u001B[38;5;124m\"\u001B[39m\u001B[38;5;130;01m\\n\u001B[39;00m\u001B[38;5;124mleft : DataFrame or named Series\u001B[39m\u001B[38;5;124m\"\u001B[39m)\n\u001B[1;32m     94\u001B[0m \u001B[38;5;129m@Appender\u001B[39m(_merge_doc, indents\u001B[38;5;241m=\u001B[39m\u001B[38;5;241m0\u001B[39m)\n\u001B[1;32m     95\u001B[0m \u001B[38;5;28;01mdef\u001B[39;00m \u001B[38;5;21mmerge\u001B[39m(\n\u001B[0;32m   (...)\u001B[0m\n\u001B[1;32m    108\u001B[0m     validate: \u001B[38;5;28mstr\u001B[39m \u001B[38;5;241m|\u001B[39m \u001B[38;5;28;01mNone\u001B[39;00m \u001B[38;5;241m=\u001B[39m \u001B[38;5;28;01mNone\u001B[39;00m,\n\u001B[1;32m    109\u001B[0m ) \u001B[38;5;241m-\u001B[39m\u001B[38;5;241m>\u001B[39m DataFrame:\n\u001B[1;32m    110\u001B[0m     op \u001B[38;5;241m=\u001B[39m _MergeOperation(\n\u001B[1;32m    111\u001B[0m         left,\n\u001B[1;32m    112\u001B[0m         right,\n\u001B[0;32m   (...)\u001B[0m\n\u001B[1;32m    122\u001B[0m         validate\u001B[38;5;241m=\u001B[39mvalidate,\n\u001B[1;32m    123\u001B[0m     )\n\u001B[0;32m--> 124\u001B[0m     \u001B[38;5;28;01mreturn\u001B[39;00m \u001B[43mop\u001B[49m\u001B[38;5;241;43m.\u001B[39;49m\u001B[43mget_result\u001B[49m\u001B[43m(\u001B[49m\u001B[43mcopy\u001B[49m\u001B[38;5;241;43m=\u001B[39;49m\u001B[43mcopy\u001B[49m\u001B[43m)\u001B[49m\n",
      "File \u001B[0;32m~/miniconda3/envs/MigdalDavid/lib/python3.10/site-packages/pandas/core/reshape/merge.py:773\u001B[0m, in \u001B[0;36m_MergeOperation.get_result\u001B[0;34m(self, copy)\u001B[0m\n\u001B[1;32m    770\u001B[0m \u001B[38;5;28;01mif\u001B[39;00m \u001B[38;5;28mself\u001B[39m\u001B[38;5;241m.\u001B[39mindicator:\n\u001B[1;32m    771\u001B[0m     \u001B[38;5;28mself\u001B[39m\u001B[38;5;241m.\u001B[39mleft, \u001B[38;5;28mself\u001B[39m\u001B[38;5;241m.\u001B[39mright \u001B[38;5;241m=\u001B[39m \u001B[38;5;28mself\u001B[39m\u001B[38;5;241m.\u001B[39m_indicator_pre_merge(\u001B[38;5;28mself\u001B[39m\u001B[38;5;241m.\u001B[39mleft, \u001B[38;5;28mself\u001B[39m\u001B[38;5;241m.\u001B[39mright)\n\u001B[0;32m--> 773\u001B[0m join_index, left_indexer, right_indexer \u001B[38;5;241m=\u001B[39m \u001B[38;5;28;43mself\u001B[39;49m\u001B[38;5;241;43m.\u001B[39;49m\u001B[43m_get_join_info\u001B[49m\u001B[43m(\u001B[49m\u001B[43m)\u001B[49m\n\u001B[1;32m    775\u001B[0m result \u001B[38;5;241m=\u001B[39m \u001B[38;5;28mself\u001B[39m\u001B[38;5;241m.\u001B[39m_reindex_and_concat(\n\u001B[1;32m    776\u001B[0m     join_index, left_indexer, right_indexer, copy\u001B[38;5;241m=\u001B[39mcopy\n\u001B[1;32m    777\u001B[0m )\n\u001B[1;32m    778\u001B[0m result \u001B[38;5;241m=\u001B[39m result\u001B[38;5;241m.\u001B[39m__finalize__(\u001B[38;5;28mself\u001B[39m, method\u001B[38;5;241m=\u001B[39m\u001B[38;5;28mself\u001B[39m\u001B[38;5;241m.\u001B[39m_merge_type)\n",
      "File \u001B[0;32m~/miniconda3/envs/MigdalDavid/lib/python3.10/site-packages/pandas/core/reshape/merge.py:1026\u001B[0m, in \u001B[0;36m_MergeOperation._get_join_info\u001B[0;34m(self)\u001B[0m\n\u001B[1;32m   1022\u001B[0m     join_index, right_indexer, left_indexer \u001B[38;5;241m=\u001B[39m _left_join_on_index(\n\u001B[1;32m   1023\u001B[0m         right_ax, left_ax, \u001B[38;5;28mself\u001B[39m\u001B[38;5;241m.\u001B[39mright_join_keys, sort\u001B[38;5;241m=\u001B[39m\u001B[38;5;28mself\u001B[39m\u001B[38;5;241m.\u001B[39msort\n\u001B[1;32m   1024\u001B[0m     )\n\u001B[1;32m   1025\u001B[0m \u001B[38;5;28;01melse\u001B[39;00m:\n\u001B[0;32m-> 1026\u001B[0m     (left_indexer, right_indexer) \u001B[38;5;241m=\u001B[39m \u001B[38;5;28;43mself\u001B[39;49m\u001B[38;5;241;43m.\u001B[39;49m\u001B[43m_get_join_indexers\u001B[49m\u001B[43m(\u001B[49m\u001B[43m)\u001B[49m\n\u001B[1;32m   1028\u001B[0m     \u001B[38;5;28;01mif\u001B[39;00m \u001B[38;5;28mself\u001B[39m\u001B[38;5;241m.\u001B[39mright_index:\n\u001B[1;32m   1029\u001B[0m         \u001B[38;5;28;01mif\u001B[39;00m \u001B[38;5;28mlen\u001B[39m(\u001B[38;5;28mself\u001B[39m\u001B[38;5;241m.\u001B[39mleft) \u001B[38;5;241m>\u001B[39m \u001B[38;5;241m0\u001B[39m:\n",
      "File \u001B[0;32m~/miniconda3/envs/MigdalDavid/lib/python3.10/site-packages/pandas/core/reshape/merge.py:1000\u001B[0m, in \u001B[0;36m_MergeOperation._get_join_indexers\u001B[0;34m(self)\u001B[0m\n\u001B[1;32m    998\u001B[0m \u001B[38;5;28;01mdef\u001B[39;00m \u001B[38;5;21m_get_join_indexers\u001B[39m(\u001B[38;5;28mself\u001B[39m) \u001B[38;5;241m-\u001B[39m\u001B[38;5;241m>\u001B[39m \u001B[38;5;28mtuple\u001B[39m[npt\u001B[38;5;241m.\u001B[39mNDArray[np\u001B[38;5;241m.\u001B[39mintp], npt\u001B[38;5;241m.\u001B[39mNDArray[np\u001B[38;5;241m.\u001B[39mintp]]:\n\u001B[1;32m    999\u001B[0m \u001B[38;5;250m    \u001B[39m\u001B[38;5;124;03m\"\"\"return the join indexers\"\"\"\u001B[39;00m\n\u001B[0;32m-> 1000\u001B[0m     \u001B[38;5;28;01mreturn\u001B[39;00m \u001B[43mget_join_indexers\u001B[49m\u001B[43m(\u001B[49m\n\u001B[1;32m   1001\u001B[0m \u001B[43m        \u001B[49m\u001B[38;5;28;43mself\u001B[39;49m\u001B[38;5;241;43m.\u001B[39;49m\u001B[43mleft_join_keys\u001B[49m\u001B[43m,\u001B[49m\u001B[43m \u001B[49m\u001B[38;5;28;43mself\u001B[39;49m\u001B[38;5;241;43m.\u001B[39;49m\u001B[43mright_join_keys\u001B[49m\u001B[43m,\u001B[49m\u001B[43m \u001B[49m\u001B[43msort\u001B[49m\u001B[38;5;241;43m=\u001B[39;49m\u001B[38;5;28;43mself\u001B[39;49m\u001B[38;5;241;43m.\u001B[39;49m\u001B[43msort\u001B[49m\u001B[43m,\u001B[49m\u001B[43m \u001B[49m\u001B[43mhow\u001B[49m\u001B[38;5;241;43m=\u001B[39;49m\u001B[38;5;28;43mself\u001B[39;49m\u001B[38;5;241;43m.\u001B[39;49m\u001B[43mhow\u001B[49m\n\u001B[1;32m   1002\u001B[0m \u001B[43m    \u001B[49m\u001B[43m)\u001B[49m\n",
      "File \u001B[0;32m~/miniconda3/envs/MigdalDavid/lib/python3.10/site-packages/pandas/core/reshape/merge.py:1610\u001B[0m, in \u001B[0;36mget_join_indexers\u001B[0;34m(left_keys, right_keys, sort, how, **kwargs)\u001B[0m\n\u001B[1;32m   1600\u001B[0m join_func \u001B[38;5;241m=\u001B[39m {\n\u001B[1;32m   1601\u001B[0m     \u001B[38;5;124m\"\u001B[39m\u001B[38;5;124minner\u001B[39m\u001B[38;5;124m\"\u001B[39m: libjoin\u001B[38;5;241m.\u001B[39minner_join,\n\u001B[1;32m   1602\u001B[0m     \u001B[38;5;124m\"\u001B[39m\u001B[38;5;124mleft\u001B[39m\u001B[38;5;124m\"\u001B[39m: libjoin\u001B[38;5;241m.\u001B[39mleft_outer_join,\n\u001B[0;32m   (...)\u001B[0m\n\u001B[1;32m   1606\u001B[0m     \u001B[38;5;124m\"\u001B[39m\u001B[38;5;124mouter\u001B[39m\u001B[38;5;124m\"\u001B[39m: libjoin\u001B[38;5;241m.\u001B[39mfull_outer_join,\n\u001B[1;32m   1607\u001B[0m }[how]\n\u001B[1;32m   1609\u001B[0m \u001B[38;5;66;03m# error: Cannot call function of unknown type\u001B[39;00m\n\u001B[0;32m-> 1610\u001B[0m \u001B[38;5;28;01mreturn\u001B[39;00m \u001B[43mjoin_func\u001B[49m\u001B[43m(\u001B[49m\u001B[43mlkey\u001B[49m\u001B[43m,\u001B[49m\u001B[43m \u001B[49m\u001B[43mrkey\u001B[49m\u001B[43m,\u001B[49m\u001B[43m \u001B[49m\u001B[43mcount\u001B[49m\u001B[43m,\u001B[49m\u001B[43m \u001B[49m\u001B[38;5;241;43m*\u001B[39;49m\u001B[38;5;241;43m*\u001B[39;49m\u001B[43mkwargs\u001B[49m\u001B[43m)\u001B[49m\n",
      "File \u001B[0;32m~/miniconda3/envs/MigdalDavid/lib/python3.10/site-packages/pandas/_libs/join.pyx:48\u001B[0m, in \u001B[0;36mpandas._libs.join.inner_join\u001B[0;34m()\u001B[0m\n",
      "\u001B[0;31mMemoryError\u001B[0m: Unable to allocate 127. GiB for an array with shape (17110292817,) and data type int64"
     ]
    }
   ],
   "source": [
    "dates = ['year','month','day','hour','day_of_week','holiday','day_of_year']\n",
    "all_checks_df = pd.DataFrame()\n",
    "for i in df10.columns[7:]:\n",
    "    if i in df25.columns:\n",
    "        df10_per_station = df10[[i]]\n",
    "        df25_per_station = df25[[i]]\n",
    "        df_per_station = df10_per_station.merge(df25_per_station, how='inner').dropna()\n",
    "        df_per_station['station'] = [i]*len(df_per_station.year.index)\n",
    "        df_per_station.set_index(df_per_station.index+['station'])\n",
    "        all_checks_df=all_checks_df.join(df_per_station)\n",
    "all_checks_df\n",
    "\n"
   ],
   "metadata": {
    "collapsed": false
   }
  },
  {
   "cell_type": "code",
   "execution_count": 13,
   "outputs": [
    {
     "data": {
      "text/plain": "385728"
     },
     "execution_count": 13,
     "metadata": {},
     "output_type": "execute_result"
    }
   ],
   "source": [
    "len(df25.index)"
   ],
   "metadata": {
    "collapsed": false
   }
  },
  {
   "cell_type": "code",
   "execution_count": 11,
   "outputs": [
    {
     "data": {
      "text/plain": "                                                     AFU   AMI   ANT  AZR  \\\nyear month day hour day_of_week holiday day_of_year                         \n2000 1     1   0.0  7           0       1            NaN   NaN   NaN  NaN   \n               0.5  7           0       1            NaN   NaN  60.0  NaN   \n               1.0  7           0       1            NaN   NaN  56.0  NaN   \n               1.5  7           0       1            NaN   NaN  71.0  NaN   \n               2.0  7           0       1            NaN   NaN  64.0  NaN   \n...                                                  ...   ...   ...  ...   \n2021 12    31  21.5 6           0       365          NaN  15.2  13.8  NaN   \n               22.0 6           0       365          NaN  14.3  15.9  NaN   \n               22.5 6           0       365          NaN  15.5  14.2  NaN   \n               23.0 6           0       365          NaN  14.8  12.9  NaN   \n               23.5 6           0       365          NaN   NaN   NaN  NaN   \n\n                                                      EHA  TIK   HOL  IRD  \\\nyear month day hour day_of_week holiday day_of_year                         \n2000 1     1   0.0  7           0       1             NaN  NaN  40.8  NaN   \n               0.5  7           0       1             NaN  NaN   NaN  NaN   \n               1.0  7           0       1             NaN  NaN  43.6  NaN   \n               1.5  7           0       1             NaN  NaN  44.1  NaN   \n               2.0  7           0       1             NaN  NaN  44.0  NaN   \n...                                                   ...  ...   ...  ...   \n2021 12    31  21.5 6           0       365          15.0  NaN   7.5  8.1   \n               22.0 6           0       365          15.6  NaN   6.1  7.9   \n               22.5 6           0       365          20.0  NaN   8.3  5.5   \n               23.0 6           0       365          19.7  NaN  10.5  8.2   \n               23.5 6           0       365           NaN  NaN   NaN  NaN   \n\n                                                      KV4   PTR  ...  UFC  \\\nyear month day hour day_of_week holiday day_of_year              ...        \n2000 1     1   0.0  7           0       1             NaN   NaN  ...  NaN   \n               0.5  7           0       1             NaN   NaN  ...  NaN   \n               1.0  7           0       1             NaN   NaN  ...  NaN   \n               1.5  7           0       1             NaN   NaN  ...  NaN   \n               2.0  7           0       1             NaN   NaN  ...  NaN   \n...                                                   ...   ...  ...  ...   \n2021 12    31  21.5 6           0       365          18.4  17.4  ...  NaN   \n               22.0 6           0       365          23.8  13.6  ...  NaN   \n               22.5 6           0       365          16.8  12.1  ...  NaN   \n               23.0 6           0       365          13.9   8.4  ...  NaN   \n               23.5 6           0       365           NaN   NaN  ...  NaN   \n\n                                                     ZVI  BRV  BGA   BNA  MOD  \\\nyear month day hour day_of_week holiday day_of_year                             \n2000 1     1   0.0  7           0       1            NaN  NaN  NaN   NaN  NaN   \n               0.5  7           0       1            NaN  NaN  NaN   NaN  NaN   \n               1.0  7           0       1            NaN  NaN  NaN   NaN  NaN   \n               1.5  7           0       1            NaN  NaN  NaN   NaN  NaN   \n               2.0  7           0       1            NaN  NaN  NaN   NaN  NaN   \n...                                                  ...  ...  ...   ...  ...   \n2021 12    31  21.5 6           0       365          NaN  NaN  NaN  18.0  NaN   \n               22.0 6           0       365          NaN  NaN  NaN  18.0  NaN   \n               22.5 6           0       365          NaN  NaN  NaN  18.0  NaN   \n               23.0 6           0       365          NaN  NaN  NaN  18.0  NaN   \n               23.5 6           0       365          NaN  NaN  NaN   NaN  NaN   \n\n                                                      ORY   ASL  GTZ   NEK  \nyear month day hour day_of_week holiday day_of_year                         \n2000 1     1   0.0  7           0       1             NaN   NaN  NaN   NaN  \n               0.5  7           0       1             NaN   NaN  NaN   NaN  \n               1.0  7           0       1             NaN   NaN  NaN   NaN  \n               1.5  7           0       1             NaN   NaN  NaN   NaN  \n               2.0  7           0       1             NaN   NaN  NaN   NaN  \n...                                                   ...   ...  ...   ...  \n2021 12    31  21.5 6           0       365          24.0  16.0  NaN  24.0  \n               22.0 6           0       365          25.0  15.9  NaN  23.9  \n               22.5 6           0       365          18.3  15.0  NaN  19.0  \n               23.0 6           0       365          17.0  15.3  NaN  19.0  \n               23.5 6           0       365           NaN   NaN  NaN   NaN  \n\n[385728 rows x 96 columns]",
      "text/html": "<div>\n<style scoped>\n    .dataframe tbody tr th:only-of-type {\n        vertical-align: middle;\n    }\n\n    .dataframe tbody tr th {\n        vertical-align: top;\n    }\n\n    .dataframe thead th {\n        text-align: right;\n    }\n</style>\n<table border=\"1\" class=\"dataframe\">\n  <thead>\n    <tr style=\"text-align: right;\">\n      <th></th>\n      <th></th>\n      <th></th>\n      <th></th>\n      <th></th>\n      <th></th>\n      <th></th>\n      <th>AFU</th>\n      <th>AMI</th>\n      <th>ANT</th>\n      <th>AZR</th>\n      <th>EHA</th>\n      <th>TIK</th>\n      <th>HOL</th>\n      <th>IRD</th>\n      <th>KV4</th>\n      <th>PTR</th>\n      <th>...</th>\n      <th>UFC</th>\n      <th>ZVI</th>\n      <th>BRV</th>\n      <th>BGA</th>\n      <th>BNA</th>\n      <th>MOD</th>\n      <th>ORY</th>\n      <th>ASL</th>\n      <th>GTZ</th>\n      <th>NEK</th>\n    </tr>\n    <tr>\n      <th>year</th>\n      <th>month</th>\n      <th>day</th>\n      <th>hour</th>\n      <th>day_of_week</th>\n      <th>holiday</th>\n      <th>day_of_year</th>\n      <th></th>\n      <th></th>\n      <th></th>\n      <th></th>\n      <th></th>\n      <th></th>\n      <th></th>\n      <th></th>\n      <th></th>\n      <th></th>\n      <th></th>\n      <th></th>\n      <th></th>\n      <th></th>\n      <th></th>\n      <th></th>\n      <th></th>\n      <th></th>\n      <th></th>\n      <th></th>\n      <th></th>\n    </tr>\n  </thead>\n  <tbody>\n    <tr>\n      <th rowspan=\"5\" valign=\"top\">2000</th>\n      <th rowspan=\"5\" valign=\"top\">1</th>\n      <th rowspan=\"5\" valign=\"top\">1</th>\n      <th>0.0</th>\n      <th>7</th>\n      <th>0</th>\n      <th>1</th>\n      <td>NaN</td>\n      <td>NaN</td>\n      <td>NaN</td>\n      <td>NaN</td>\n      <td>NaN</td>\n      <td>NaN</td>\n      <td>40.8</td>\n      <td>NaN</td>\n      <td>NaN</td>\n      <td>NaN</td>\n      <td>...</td>\n      <td>NaN</td>\n      <td>NaN</td>\n      <td>NaN</td>\n      <td>NaN</td>\n      <td>NaN</td>\n      <td>NaN</td>\n      <td>NaN</td>\n      <td>NaN</td>\n      <td>NaN</td>\n      <td>NaN</td>\n    </tr>\n    <tr>\n      <th>0.5</th>\n      <th>7</th>\n      <th>0</th>\n      <th>1</th>\n      <td>NaN</td>\n      <td>NaN</td>\n      <td>60.0</td>\n      <td>NaN</td>\n      <td>NaN</td>\n      <td>NaN</td>\n      <td>NaN</td>\n      <td>NaN</td>\n      <td>NaN</td>\n      <td>NaN</td>\n      <td>...</td>\n      <td>NaN</td>\n      <td>NaN</td>\n      <td>NaN</td>\n      <td>NaN</td>\n      <td>NaN</td>\n      <td>NaN</td>\n      <td>NaN</td>\n      <td>NaN</td>\n      <td>NaN</td>\n      <td>NaN</td>\n    </tr>\n    <tr>\n      <th>1.0</th>\n      <th>7</th>\n      <th>0</th>\n      <th>1</th>\n      <td>NaN</td>\n      <td>NaN</td>\n      <td>56.0</td>\n      <td>NaN</td>\n      <td>NaN</td>\n      <td>NaN</td>\n      <td>43.6</td>\n      <td>NaN</td>\n      <td>NaN</td>\n      <td>NaN</td>\n      <td>...</td>\n      <td>NaN</td>\n      <td>NaN</td>\n      <td>NaN</td>\n      <td>NaN</td>\n      <td>NaN</td>\n      <td>NaN</td>\n      <td>NaN</td>\n      <td>NaN</td>\n      <td>NaN</td>\n      <td>NaN</td>\n    </tr>\n    <tr>\n      <th>1.5</th>\n      <th>7</th>\n      <th>0</th>\n      <th>1</th>\n      <td>NaN</td>\n      <td>NaN</td>\n      <td>71.0</td>\n      <td>NaN</td>\n      <td>NaN</td>\n      <td>NaN</td>\n      <td>44.1</td>\n      <td>NaN</td>\n      <td>NaN</td>\n      <td>NaN</td>\n      <td>...</td>\n      <td>NaN</td>\n      <td>NaN</td>\n      <td>NaN</td>\n      <td>NaN</td>\n      <td>NaN</td>\n      <td>NaN</td>\n      <td>NaN</td>\n      <td>NaN</td>\n      <td>NaN</td>\n      <td>NaN</td>\n    </tr>\n    <tr>\n      <th>2.0</th>\n      <th>7</th>\n      <th>0</th>\n      <th>1</th>\n      <td>NaN</td>\n      <td>NaN</td>\n      <td>64.0</td>\n      <td>NaN</td>\n      <td>NaN</td>\n      <td>NaN</td>\n      <td>44.0</td>\n      <td>NaN</td>\n      <td>NaN</td>\n      <td>NaN</td>\n      <td>...</td>\n      <td>NaN</td>\n      <td>NaN</td>\n      <td>NaN</td>\n      <td>NaN</td>\n      <td>NaN</td>\n      <td>NaN</td>\n      <td>NaN</td>\n      <td>NaN</td>\n      <td>NaN</td>\n      <td>NaN</td>\n    </tr>\n    <tr>\n      <th>...</th>\n      <th>...</th>\n      <th>...</th>\n      <th>...</th>\n      <th>...</th>\n      <th>...</th>\n      <th>...</th>\n      <td>...</td>\n      <td>...</td>\n      <td>...</td>\n      <td>...</td>\n      <td>...</td>\n      <td>...</td>\n      <td>...</td>\n      <td>...</td>\n      <td>...</td>\n      <td>...</td>\n      <td>...</td>\n      <td>...</td>\n      <td>...</td>\n      <td>...</td>\n      <td>...</td>\n      <td>...</td>\n      <td>...</td>\n      <td>...</td>\n      <td>...</td>\n      <td>...</td>\n      <td>...</td>\n    </tr>\n    <tr>\n      <th rowspan=\"5\" valign=\"top\">2021</th>\n      <th rowspan=\"5\" valign=\"top\">12</th>\n      <th rowspan=\"5\" valign=\"top\">31</th>\n      <th>21.5</th>\n      <th>6</th>\n      <th>0</th>\n      <th>365</th>\n      <td>NaN</td>\n      <td>15.2</td>\n      <td>13.8</td>\n      <td>NaN</td>\n      <td>15.0</td>\n      <td>NaN</td>\n      <td>7.5</td>\n      <td>8.1</td>\n      <td>18.4</td>\n      <td>17.4</td>\n      <td>...</td>\n      <td>NaN</td>\n      <td>NaN</td>\n      <td>NaN</td>\n      <td>NaN</td>\n      <td>18.0</td>\n      <td>NaN</td>\n      <td>24.0</td>\n      <td>16.0</td>\n      <td>NaN</td>\n      <td>24.0</td>\n    </tr>\n    <tr>\n      <th>22.0</th>\n      <th>6</th>\n      <th>0</th>\n      <th>365</th>\n      <td>NaN</td>\n      <td>14.3</td>\n      <td>15.9</td>\n      <td>NaN</td>\n      <td>15.6</td>\n      <td>NaN</td>\n      <td>6.1</td>\n      <td>7.9</td>\n      <td>23.8</td>\n      <td>13.6</td>\n      <td>...</td>\n      <td>NaN</td>\n      <td>NaN</td>\n      <td>NaN</td>\n      <td>NaN</td>\n      <td>18.0</td>\n      <td>NaN</td>\n      <td>25.0</td>\n      <td>15.9</td>\n      <td>NaN</td>\n      <td>23.9</td>\n    </tr>\n    <tr>\n      <th>22.5</th>\n      <th>6</th>\n      <th>0</th>\n      <th>365</th>\n      <td>NaN</td>\n      <td>15.5</td>\n      <td>14.2</td>\n      <td>NaN</td>\n      <td>20.0</td>\n      <td>NaN</td>\n      <td>8.3</td>\n      <td>5.5</td>\n      <td>16.8</td>\n      <td>12.1</td>\n      <td>...</td>\n      <td>NaN</td>\n      <td>NaN</td>\n      <td>NaN</td>\n      <td>NaN</td>\n      <td>18.0</td>\n      <td>NaN</td>\n      <td>18.3</td>\n      <td>15.0</td>\n      <td>NaN</td>\n      <td>19.0</td>\n    </tr>\n    <tr>\n      <th>23.0</th>\n      <th>6</th>\n      <th>0</th>\n      <th>365</th>\n      <td>NaN</td>\n      <td>14.8</td>\n      <td>12.9</td>\n      <td>NaN</td>\n      <td>19.7</td>\n      <td>NaN</td>\n      <td>10.5</td>\n      <td>8.2</td>\n      <td>13.9</td>\n      <td>8.4</td>\n      <td>...</td>\n      <td>NaN</td>\n      <td>NaN</td>\n      <td>NaN</td>\n      <td>NaN</td>\n      <td>18.0</td>\n      <td>NaN</td>\n      <td>17.0</td>\n      <td>15.3</td>\n      <td>NaN</td>\n      <td>19.0</td>\n    </tr>\n    <tr>\n      <th>23.5</th>\n      <th>6</th>\n      <th>0</th>\n      <th>365</th>\n      <td>NaN</td>\n      <td>NaN</td>\n      <td>NaN</td>\n      <td>NaN</td>\n      <td>NaN</td>\n      <td>NaN</td>\n      <td>NaN</td>\n      <td>NaN</td>\n      <td>NaN</td>\n      <td>NaN</td>\n      <td>...</td>\n      <td>NaN</td>\n      <td>NaN</td>\n      <td>NaN</td>\n      <td>NaN</td>\n      <td>NaN</td>\n      <td>NaN</td>\n      <td>NaN</td>\n      <td>NaN</td>\n      <td>NaN</td>\n      <td>NaN</td>\n    </tr>\n  </tbody>\n</table>\n<p>385728 rows × 96 columns</p>\n</div>"
     },
     "execution_count": 11,
     "metadata": {},
     "output_type": "execute_result"
    }
   ],
   "source": [],
   "metadata": {
    "collapsed": false
   }
  },
  {
   "cell_type": "code",
   "execution_count": null,
   "outputs": [],
   "source": [],
   "metadata": {
    "collapsed": false
   }
  }
 ],
 "metadata": {
  "kernelspec": {
   "display_name": "Python 3",
   "language": "python",
   "name": "python3"
  },
  "language_info": {
   "codemirror_mode": {
    "name": "ipython",
    "version": 2
   },
   "file_extension": ".py",
   "mimetype": "text/x-python",
   "name": "python",
   "nbconvert_exporter": "python",
   "pygments_lexer": "ipython2",
   "version": "2.7.6"
  }
 },
 "nbformat": 4,
 "nbformat_minor": 0
}
