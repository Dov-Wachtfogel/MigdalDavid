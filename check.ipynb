{
 "cells": [
  {
   "cell_type": "code",
   "execution_count": 2,
   "metadata": {
    "collapsed": true,
    "ExecuteTime": {
     "end_time": "2023-05-02T08:04:43.356343009Z",
     "start_time": "2023-05-02T08:04:40.083438066Z"
    }
   },
   "outputs": [],
   "source": [
    "import pandas as pd\n",
    "\n",
    "\n",
    "from sklearn.ensemble import RandomForestRegressor\n",
    "from sklearn.metrics import mean_absolute_error\n",
    "\n",
    "forest_model = RandomForestRegressor(random_state=1)"
   ]
  },
  {
   "cell_type": "code",
   "execution_count": 2,
   "outputs": [],
   "source": [
    "def exract(data_path, metadata_path):\n",
    "    df = pd.read_csv(data_path, header=[0,1])\n",
    "    meta = pd.read_csv(metadata_path, sep = ' ', header=None)\n",
    "    dates = ['year','month','day','hour','day_of_week','holiday','day_of_year']\n",
    "    df.columns = dates+list(meta[2])\n",
    "    df = df.set_index(dates)\n",
    "    return df"
   ],
   "metadata": {
    "collapsed": false,
    "ExecuteTime": {
     "end_time": "2023-05-02T05:20:21.218699547Z",
     "start_time": "2023-05-02T05:20:21.140798805Z"
    }
   }
  },
  {
   "cell_type": "code",
   "execution_count": 4,
   "outputs": [],
   "source": [
    "df10= exract('data/Data_PM10.csv', 'data/MetaData_PM10.txt')\n",
    "df25 = exract('data/Data_PM25.csv', 'data/MetaData_PM25.txt')"
   ],
   "metadata": {
    "collapsed": false,
    "ExecuteTime": {
     "end_time": "2023-05-02T05:22:26.919597008Z",
     "start_time": "2023-05-02T05:21:52.281996351Z"
    }
   }
  },
  {
   "cell_type": "code",
   "execution_count": 8,
   "outputs": [
    {
     "data": {
      "text/plain": "                                                     PM10  PM25\nyear month day hour day_of_week holiday day_of_year            \n2001 1     4   9.0  5           0       4            85.0  40.0\n               9.5  5           0       4            66.0  31.0\n               10.0 5           0       4            50.0  23.0\n               10.5 5           0       4            52.0  32.0\n               11.0 5           0       4            63.0  33.0\n...                                                   ...   ...\n2015 12    31  20.5 5           0       365           3.4   1.7\n               21.0 5           0       365           6.2   8.1\n               21.5 5           0       365          16.3  13.1\n               22.5 5           0       365          11.7   6.6\n               23.0 5           0       365          12.9  19.3\n\n[2573901 rows x 2 columns]",
      "text/html": "<div>\n<style scoped>\n    .dataframe tbody tr th:only-of-type {\n        vertical-align: middle;\n    }\n\n    .dataframe tbody tr th {\n        vertical-align: top;\n    }\n\n    .dataframe thead th {\n        text-align: right;\n    }\n</style>\n<table border=\"1\" class=\"dataframe\">\n  <thead>\n    <tr style=\"text-align: right;\">\n      <th></th>\n      <th></th>\n      <th></th>\n      <th></th>\n      <th></th>\n      <th></th>\n      <th></th>\n      <th>PM10</th>\n      <th>PM25</th>\n    </tr>\n    <tr>\n      <th>year</th>\n      <th>month</th>\n      <th>day</th>\n      <th>hour</th>\n      <th>day_of_week</th>\n      <th>holiday</th>\n      <th>day_of_year</th>\n      <th></th>\n      <th></th>\n    </tr>\n  </thead>\n  <tbody>\n    <tr>\n      <th rowspan=\"5\" valign=\"top\">2001</th>\n      <th rowspan=\"5\" valign=\"top\">1</th>\n      <th rowspan=\"5\" valign=\"top\">4</th>\n      <th>9.0</th>\n      <th>5</th>\n      <th>0</th>\n      <th>4</th>\n      <td>85.0</td>\n      <td>40.0</td>\n    </tr>\n    <tr>\n      <th>9.5</th>\n      <th>5</th>\n      <th>0</th>\n      <th>4</th>\n      <td>66.0</td>\n      <td>31.0</td>\n    </tr>\n    <tr>\n      <th>10.0</th>\n      <th>5</th>\n      <th>0</th>\n      <th>4</th>\n      <td>50.0</td>\n      <td>23.0</td>\n    </tr>\n    <tr>\n      <th>10.5</th>\n      <th>5</th>\n      <th>0</th>\n      <th>4</th>\n      <td>52.0</td>\n      <td>32.0</td>\n    </tr>\n    <tr>\n      <th>11.0</th>\n      <th>5</th>\n      <th>0</th>\n      <th>4</th>\n      <td>63.0</td>\n      <td>33.0</td>\n    </tr>\n    <tr>\n      <th>...</th>\n      <th>...</th>\n      <th>...</th>\n      <th>...</th>\n      <th>...</th>\n      <th>...</th>\n      <th>...</th>\n      <td>...</td>\n      <td>...</td>\n    </tr>\n    <tr>\n      <th rowspan=\"5\" valign=\"top\">2015</th>\n      <th rowspan=\"5\" valign=\"top\">12</th>\n      <th rowspan=\"5\" valign=\"top\">31</th>\n      <th>20.5</th>\n      <th>5</th>\n      <th>0</th>\n      <th>365</th>\n      <td>3.4</td>\n      <td>1.7</td>\n    </tr>\n    <tr>\n      <th>21.0</th>\n      <th>5</th>\n      <th>0</th>\n      <th>365</th>\n      <td>6.2</td>\n      <td>8.1</td>\n    </tr>\n    <tr>\n      <th>21.5</th>\n      <th>5</th>\n      <th>0</th>\n      <th>365</th>\n      <td>16.3</td>\n      <td>13.1</td>\n    </tr>\n    <tr>\n      <th>22.5</th>\n      <th>5</th>\n      <th>0</th>\n      <th>365</th>\n      <td>11.7</td>\n      <td>6.6</td>\n    </tr>\n    <tr>\n      <th>23.0</th>\n      <th>5</th>\n      <th>0</th>\n      <th>365</th>\n      <td>12.9</td>\n      <td>19.3</td>\n    </tr>\n  </tbody>\n</table>\n<p>2573901 rows × 2 columns</p>\n</div>"
     },
     "execution_count": 8,
     "metadata": {},
     "output_type": "execute_result"
    }
   ],
   "source": [
    "dates = ['year','month','day','hour','day_of_week','holiday','day_of_year']\n",
    "c= 0\n",
    "all_checks_df = pd.DataFrame()\n",
    "for i in df10.columns[7:]:\n",
    "    if i in df25.columns:\n",
    "        df10_per_station = df10[[i]]\n",
    "        df25_per_station = df25[[i]]\n",
    "        df_per_station = df10_per_station.join(df25_per_station, how = 'inner', lsuffix='_PM10', rsuffix='_PM25').dropna()\n",
    "        df_per_station['station'] = [i]*len(df_per_station.index)\n",
    "        df_per_station.set_index(['station'])\n",
    "        all_checks_df=pd.concat([all_checks_df,df_per_station])\n",
    "all_checks_df\n",
    "\n"
   ],
   "metadata": {
    "collapsed": false,
    "pycharm": {
     "is_executing": true
    },
    "ExecuteTime": {
     "end_time": "2023-05-02T05:31:36.039875877Z",
     "start_time": "2023-05-02T05:31:23.346402815Z"
    }
   }
  },
  {
   "cell_type": "code",
   "execution_count": 3,
   "outputs": [
    {
     "data": {
      "text/plain": "                                                     PM10  PM25\nyear month day hour day_of_week holiday day_of_year            \n2001 1     4   9.0  5           0       4            85.0  40.0\n               9.5  5           0       4            66.0  31.0\n               10.0 5           0       4            50.0  23.0\n               10.5 5           0       4            52.0  32.0\n               11.0 5           0       4            63.0  33.0\n...                                                   ...   ...\n2015 12    31  20.5 5           0       365           3.4   1.7\n               21.0 5           0       365           6.2   8.1\n               21.5 5           0       365          16.3  13.1\n               22.5 5           0       365          11.7   6.6\n               23.0 5           0       365          12.9  19.3\n\n[2573901 rows x 2 columns]",
      "text/html": "<div>\n<style scoped>\n    .dataframe tbody tr th:only-of-type {\n        vertical-align: middle;\n    }\n\n    .dataframe tbody tr th {\n        vertical-align: top;\n    }\n\n    .dataframe thead th {\n        text-align: right;\n    }\n</style>\n<table border=\"1\" class=\"dataframe\">\n  <thead>\n    <tr style=\"text-align: right;\">\n      <th></th>\n      <th></th>\n      <th></th>\n      <th></th>\n      <th></th>\n      <th></th>\n      <th></th>\n      <th>PM10</th>\n      <th>PM25</th>\n    </tr>\n    <tr>\n      <th>year</th>\n      <th>month</th>\n      <th>day</th>\n      <th>hour</th>\n      <th>day_of_week</th>\n      <th>holiday</th>\n      <th>day_of_year</th>\n      <th></th>\n      <th></th>\n    </tr>\n  </thead>\n  <tbody>\n    <tr>\n      <th rowspan=\"5\" valign=\"top\">2001</th>\n      <th rowspan=\"5\" valign=\"top\">1</th>\n      <th rowspan=\"5\" valign=\"top\">4</th>\n      <th>9.0</th>\n      <th>5</th>\n      <th>0</th>\n      <th>4</th>\n      <td>85.0</td>\n      <td>40.0</td>\n    </tr>\n    <tr>\n      <th>9.5</th>\n      <th>5</th>\n      <th>0</th>\n      <th>4</th>\n      <td>66.0</td>\n      <td>31.0</td>\n    </tr>\n    <tr>\n      <th>10.0</th>\n      <th>5</th>\n      <th>0</th>\n      <th>4</th>\n      <td>50.0</td>\n      <td>23.0</td>\n    </tr>\n    <tr>\n      <th>10.5</th>\n      <th>5</th>\n      <th>0</th>\n      <th>4</th>\n      <td>52.0</td>\n      <td>32.0</td>\n    </tr>\n    <tr>\n      <th>11.0</th>\n      <th>5</th>\n      <th>0</th>\n      <th>4</th>\n      <td>63.0</td>\n      <td>33.0</td>\n    </tr>\n    <tr>\n      <th>...</th>\n      <th>...</th>\n      <th>...</th>\n      <th>...</th>\n      <th>...</th>\n      <th>...</th>\n      <th>...</th>\n      <td>...</td>\n      <td>...</td>\n    </tr>\n    <tr>\n      <th rowspan=\"5\" valign=\"top\">2015</th>\n      <th rowspan=\"5\" valign=\"top\">12</th>\n      <th rowspan=\"5\" valign=\"top\">31</th>\n      <th>20.5</th>\n      <th>5</th>\n      <th>0</th>\n      <th>365</th>\n      <td>3.4</td>\n      <td>1.7</td>\n    </tr>\n    <tr>\n      <th>21.0</th>\n      <th>5</th>\n      <th>0</th>\n      <th>365</th>\n      <td>6.2</td>\n      <td>8.1</td>\n    </tr>\n    <tr>\n      <th>21.5</th>\n      <th>5</th>\n      <th>0</th>\n      <th>365</th>\n      <td>16.3</td>\n      <td>13.1</td>\n    </tr>\n    <tr>\n      <th>22.5</th>\n      <th>5</th>\n      <th>0</th>\n      <th>365</th>\n      <td>11.7</td>\n      <td>6.6</td>\n    </tr>\n    <tr>\n      <th>23.0</th>\n      <th>5</th>\n      <th>0</th>\n      <th>365</th>\n      <td>12.9</td>\n      <td>19.3</td>\n    </tr>\n  </tbody>\n</table>\n<p>2573901 rows × 2 columns</p>\n</div>"
     },
     "execution_count": 3,
     "metadata": {},
     "output_type": "execute_result"
    }
   ],
   "source": [
    "all_checks_df = pd.read_csv('all_PM10_PM25.csv', header=[0], index_col=[0,1,2,3,4,5,6])\n",
    "all_checks_df"
   ],
   "metadata": {
    "collapsed": false,
    "ExecuteTime": {
     "end_time": "2023-05-02T08:04:57.816812799Z",
     "start_time": "2023-05-02T08:04:54.163735701Z"
    }
   }
  }
 ],
 "metadata": {
  "kernelspec": {
   "display_name": "Python 3",
   "language": "python",
   "name": "python3"
  },
  "language_info": {
   "codemirror_mode": {
    "name": "ipython",
    "version": 2
   },
   "file_extension": ".py",
   "mimetype": "text/x-python",
   "name": "python",
   "nbconvert_exporter": "python",
   "pygments_lexer": "ipython2",
   "version": "2.7.6"
  }
 },
 "nbformat": 4,
 "nbformat_minor": 0
}
