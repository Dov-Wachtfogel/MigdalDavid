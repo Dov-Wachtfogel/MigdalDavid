{
 "cells": [
  {
   "cell_type": "code",
   "execution_count": 1,
   "metadata": {
    "collapsed": true
   },
   "outputs": [],
   "source": [
    "import pandas as pd\n",
    "\n",
    "\n",
    "from sklearn.ensemble import RandomForestRegressor\n",
    "from sklearn.metrics import mean_absolute_error\n",
    "\n",
    "forest_model = RandomForestRegressor(random_state=1)"
   ]
  },
  {
   "cell_type": "code",
   "execution_count": 2,
   "outputs": [],
   "source": [
    "def exract(data_path, metadata_path):\n",
    "    df = pd.read_csv(data_path, header=[0,1])\n",
    "    meta = pd.read_csv(metadata_path, sep = ' ', header=None)\n",
    "    dates = ['year','month','day','hour','day_of_week','holiday','day_of_year']\n",
    "    df.columns = dates+list(meta[2])\n",
    "    df = df.set_index(dates)\n",
    "    return df"
   ],
   "metadata": {
    "collapsed": false
   }
  },
  {
   "cell_type": "code",
   "execution_count": 3,
   "outputs": [],
   "source": [
    "df10= exract('data/Data_PM10.csv', 'data/MetaData_PM10.txt')\n",
    "df25 = exract('data/Data_PM25.csv', 'data/MetaData_PM25.txt')"
   ],
   "metadata": {
    "collapsed": false
   }
  },
  {
   "cell_type": "code",
   "execution_count": 14,
   "outputs": [
    {
     "data": {
      "text/plain": "                                                     PTR_PM10  PTR_PM25  \\\nyear month day hour day_of_week holiday day_of_year                       \n2001 1     4   9.0  5           0       4                85.0      40.0   \n               9.5  5           0       4                66.0      31.0   \n               10.0 5           0       4                50.0      23.0   \n               10.5 5           0       4                52.0      32.0   \n               11.0 5           0       4                63.0      33.0   \n...                                                       ...       ...   \n2018 12    11  22.0 3           0       345              74.7      20.5   \n               22.5 3           0       345              70.8      20.8   \n               23.0 3           0       345              73.8      24.7   \n               23.5 3           0       345              72.1      24.9   \n           12  0.0  4           0       346              68.5      23.9   \n\n                                                    station  \nyear month day hour day_of_week holiday day_of_year          \n2001 1     4   9.0  5           0       4               PTR  \n               9.5  5           0       4               PTR  \n               10.0 5           0       4               PTR  \n               10.5 5           0       4               PTR  \n               11.0 5           0       4               PTR  \n...                                                     ...  \n2018 12    11  22.0 3           0       345             PTR  \n               22.5 3           0       345             PTR  \n               23.0 3           0       345             PTR  \n               23.5 3           0       345             PTR  \n           12  0.0  4           0       346             PTR  \n\n[229992 rows x 3 columns]",
      "text/html": "<div>\n<style scoped>\n    .dataframe tbody tr th:only-of-type {\n        vertical-align: middle;\n    }\n\n    .dataframe tbody tr th {\n        vertical-align: top;\n    }\n\n    .dataframe thead th {\n        text-align: right;\n    }\n</style>\n<table border=\"1\" class=\"dataframe\">\n  <thead>\n    <tr style=\"text-align: right;\">\n      <th></th>\n      <th></th>\n      <th></th>\n      <th></th>\n      <th></th>\n      <th></th>\n      <th></th>\n      <th>PTR_PM10</th>\n      <th>PTR_PM25</th>\n      <th>station</th>\n    </tr>\n    <tr>\n      <th>year</th>\n      <th>month</th>\n      <th>day</th>\n      <th>hour</th>\n      <th>day_of_week</th>\n      <th>holiday</th>\n      <th>day_of_year</th>\n      <th></th>\n      <th></th>\n      <th></th>\n    </tr>\n  </thead>\n  <tbody>\n    <tr>\n      <th rowspan=\"5\" valign=\"top\">2001</th>\n      <th rowspan=\"5\" valign=\"top\">1</th>\n      <th rowspan=\"5\" valign=\"top\">4</th>\n      <th>9.0</th>\n      <th>5</th>\n      <th>0</th>\n      <th>4</th>\n      <td>85.0</td>\n      <td>40.0</td>\n      <td>PTR</td>\n    </tr>\n    <tr>\n      <th>9.5</th>\n      <th>5</th>\n      <th>0</th>\n      <th>4</th>\n      <td>66.0</td>\n      <td>31.0</td>\n      <td>PTR</td>\n    </tr>\n    <tr>\n      <th>10.0</th>\n      <th>5</th>\n      <th>0</th>\n      <th>4</th>\n      <td>50.0</td>\n      <td>23.0</td>\n      <td>PTR</td>\n    </tr>\n    <tr>\n      <th>10.5</th>\n      <th>5</th>\n      <th>0</th>\n      <th>4</th>\n      <td>52.0</td>\n      <td>32.0</td>\n      <td>PTR</td>\n    </tr>\n    <tr>\n      <th>11.0</th>\n      <th>5</th>\n      <th>0</th>\n      <th>4</th>\n      <td>63.0</td>\n      <td>33.0</td>\n      <td>PTR</td>\n    </tr>\n    <tr>\n      <th>...</th>\n      <th>...</th>\n      <th>...</th>\n      <th>...</th>\n      <th>...</th>\n      <th>...</th>\n      <th>...</th>\n      <td>...</td>\n      <td>...</td>\n      <td>...</td>\n    </tr>\n    <tr>\n      <th rowspan=\"5\" valign=\"top\">2018</th>\n      <th rowspan=\"5\" valign=\"top\">12</th>\n      <th rowspan=\"4\" valign=\"top\">11</th>\n      <th>22.0</th>\n      <th>3</th>\n      <th>0</th>\n      <th>345</th>\n      <td>74.7</td>\n      <td>20.5</td>\n      <td>PTR</td>\n    </tr>\n    <tr>\n      <th>22.5</th>\n      <th>3</th>\n      <th>0</th>\n      <th>345</th>\n      <td>70.8</td>\n      <td>20.8</td>\n      <td>PTR</td>\n    </tr>\n    <tr>\n      <th>23.0</th>\n      <th>3</th>\n      <th>0</th>\n      <th>345</th>\n      <td>73.8</td>\n      <td>24.7</td>\n      <td>PTR</td>\n    </tr>\n    <tr>\n      <th>23.5</th>\n      <th>3</th>\n      <th>0</th>\n      <th>345</th>\n      <td>72.1</td>\n      <td>24.9</td>\n      <td>PTR</td>\n    </tr>\n    <tr>\n      <th>12</th>\n      <th>0.0</th>\n      <th>4</th>\n      <th>0</th>\n      <th>346</th>\n      <td>68.5</td>\n      <td>23.9</td>\n      <td>PTR</td>\n    </tr>\n  </tbody>\n</table>\n<p>229992 rows × 3 columns</p>\n</div>"
     },
     "execution_count": 14,
     "metadata": {},
     "output_type": "execute_result"
    }
   ],
   "source": [
    "dates = ['year','month','day','hour','day_of_week','holiday','day_of_year']\n",
    "all_checks_df = pd.DataFrame()\n",
    "for i in df10.columns[7:8]:\n",
    "    if i in df25.columns:\n",
    "        df10_per_station = df10[[i]]\n",
    "        df25_per_station = df25[[i]]\n",
    "        df_per_station = df10_per_station.join(df25_per_station, how = 'inner').dropna()\n",
    "        df_per_station['station'] = [i]*len(df_per_station.year.index)\n",
    "        df_per_station.set_index(df_per_station.index+['station'])\n",
    "        all_checks_df=all_checks_df.join(df_per_station)\n",
    "all_checks_df\n",
    "\n"
   ],
   "metadata": {
    "collapsed": false
   }
  },
  {
   "cell_type": "code",
   "execution_count": null,
   "outputs": [],
   "source": [
    "len(df25.index)"
   ],
   "metadata": {
    "collapsed": false
   }
  },
  {
   "cell_type": "code",
   "execution_count": 7,
   "outputs": [
    {
     "data": {
      "text/plain": "True"
     },
     "execution_count": 7,
     "metadata": {},
     "output_type": "execute_result"
    }
   ],
   "source": [],
   "metadata": {
    "collapsed": false
   }
  },
  {
   "cell_type": "code",
   "execution_count": null,
   "outputs": [],
   "source": [],
   "metadata": {
    "collapsed": false
   }
  }
 ],
 "metadata": {
  "kernelspec": {
   "display_name": "Python 3",
   "language": "python",
   "name": "python3"
  },
  "language_info": {
   "codemirror_mode": {
    "name": "ipython",
    "version": 2
   },
   "file_extension": ".py",
   "mimetype": "text/x-python",
   "name": "python",
   "nbconvert_exporter": "python",
   "pygments_lexer": "ipython2",
   "version": "2.7.6"
  }
 },
 "nbformat": 4,
 "nbformat_minor": 0
}
